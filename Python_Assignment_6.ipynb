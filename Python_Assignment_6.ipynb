{
 "cells": [
  {
   "cell_type": "markdown",
   "id": "02b3a77e",
   "metadata": {},
   "source": [
    "# Q.1. What are keywords in python? Using the keyword library, print all the python keywords."
   ]
  },
  {
   "cell_type": "markdown",
   "id": "71d06f4a",
   "metadata": {},
   "source": [
    "In Python, keywords are reserved words that have predefined meanings and cannot be used as identifiers (such as variable names, function names, etc.). These keywords are used to define the syntax and structure of the language. We can't use keywords as variable names or any other identifiers in your code.\n",
    "\n",
    "When we run this code, it will print out a list of all the keywords in Python. \n",
    "\n",
    "We can use the keyword library in Python to access and print all the keywords. Here's how we can do it:"
   ]
  },
  {
   "cell_type": "code",
   "execution_count": 2,
   "id": "9a6d7d7c",
   "metadata": {},
   "outputs": [
    {
     "name": "stdout",
     "output_type": "stream",
     "text": [
      "['False', 'None', 'True', '__peg_parser__', 'and', 'as', 'assert', 'async', 'await', 'break', 'class', 'continue', 'def', 'del', 'elif', 'else', 'except', 'finally', 'for', 'from', 'global', 'if', 'import', 'in', 'is', 'lambda', 'nonlocal', 'not', 'or', 'pass', 'raise', 'return', 'try', 'while', 'with', 'yield']\n"
     ]
    }
   ],
   "source": [
    "import keyword\n",
    "\n",
    "all_keywords = keyword.kwlist\n",
    "print(all_keywords)"
   ]
  },
  {
   "cell_type": "markdown",
   "id": "55f5f609",
   "metadata": {},
   "source": [
    "# Q.2. What are the rules to create variables in python?"
   ]
  },
  {
   "cell_type": "markdown",
   "id": "ffdd9080",
   "metadata": {},
   "source": [
    "In Python, variables are used to store data values. Here are the rules for creating variables in Python:\n",
    "\n",
    "Naming Rules:\n",
    "\n",
    "Variable names must start with a letter (a-z, A-Z) or an underscore (_).\n",
    "The subsequent characters in the variable name can be letters, underscores, or digits (0-9).\n",
    "Variable names are case-sensitive, meaning myVariable and myvariable are treated as two different variables.\n",
    "\n",
    "Allowed Characters:\n",
    "\n",
    "Variable names can only contain letters, underscores, and digits. Special characters like @, #, $, etc., are not allowed.\n",
    "\n",
    "Keywords:\n",
    "\n",
    "Variable names cannot be the same as Python keywords (reserved words). For example, you cannot name a variable if, for, while, etc.\n",
    "\n",
    "Avoid Using Built-in Names:\n",
    "\n",
    "It's generally a good practice to avoid using names of built-in functions or classes as variable names. For example, don't name a variable print, as it conflicts with the built-in print() function.\n",
    "\n",
    "Descriptive and Readable:\n",
    "\n",
    "It's a good practice to use descriptive names that indicate the purpose of the variable. This makes your code more readable and maintainable.\n",
    "\n",
    "Snake Case:\n",
    "\n",
    "Python conventionally uses snake_case for variable names, where words are separated by underscores. For example: my_variable, user_name, total_count.\n",
    "\n",
    "Numbers at the Start:\n",
    "\n",
    "While variable names can contain digits, they cannot start with a digit. For example, 123var is not a valid variable name.\n",
    "\n",
    "And here are some examples of invalid variable names:\n",
    "\n",
    "2var = \"Invalid\"    # Variable name can't start with a digit\n",
    "\n",
    "if = 5              # Can't use a Python keyword as a variable name\n",
    "\n",
    "my-variable = 7     # Can't use hyphens in variable names"
   ]
  },
  {
   "cell_type": "markdown",
   "id": "00ed5b8d",
   "metadata": {},
   "source": [
    "# Q.3. What are the standards and conventions followed for the nomenclature of variables in python to improve code readability and maintainability?"
   ]
  },
  {
   "cell_type": "markdown",
   "id": "6b3e5e4c",
   "metadata": {},
   "source": [
    "Following consistent and clear naming conventions for variables is essential for writing readable and maintainable Python code. The conventions help other programmers (and your future self) understand the purpose and context of variables. While there's no strict \"official\" convention, the PEP 8 style guide provides widely accepted recommendations. Here are some key points from PEP 8 for variable naming:\n",
    "\n",
    "Use Descriptive Names:\n",
    "\n",
    "Choose variable names that are meaningful and describe the purpose of the variable. This improves code readability and understanding.\n",
    "\n",
    "Snake Case for Variables:\n",
    "\n",
    "Use lowercase letters and separate words with underscores to form variable names. For example: total_count, user_name.\n",
    "\n",
    "Avoid Single Character Names (Mostly):\n",
    "\n",
    "While single-letter variable names like i, j, x, etc., are common in loops and mathematical formulas, it's better to use more descriptive names in other cases.\n",
    "\n",
    "Use All Uppercase for Constants:\n",
    "\n",
    "If a variable is intended to be a constant (a value that shouldn't change), use uppercase letters and underscores to separate words. For example: MAX_SIZE, DEFAULT_VALUE.\n",
    "\n",
    "Avoid Ambiguous Names:\n",
    "\n",
    "Choose names that clearly convey the purpose of the variable. Avoid names like temp, data, or value, as they don't provide enough context.\n",
    "\n",
    "Be Consistent:\n",
    "\n",
    "Maintain consistency in your naming conventions throughout your codebase. If you're working with a team, follow the conventions agreed upon by the team.\n",
    "\n",
    "Avoid Reserved Words:\n",
    "\n",
    "Don't use Python keywords or built-in function names as variable names.\n",
    "\n",
    "Use Nouns for Variables:\n",
    "\n",
    "Variables typically represent objects, values, or data. Use nouns or noun phrases for variable names.\n",
    "\n",
    "Use Verb-Noun Pairs for Functions:\n",
    "\n",
    "If you're defining functions, consider using verb-noun pairs to describe what the function does. For example: calculate_total(), validate_input().\n",
    "\n",
    "Avoid Underscores at the Start/End:\n",
    "\n",
    "While using underscores to separate words is common, avoid starting or ending variable names with underscores (unless they have special meaning, like some Python-specific names).\n",
    "\n",
    "Avoid Abbreviations in Most Cases:\n",
    "\n",
    "Aim for clarity over brevity. While some common abbreviations (like num for number) might be acceptable, avoid excessive use of abbreviations that might confuse readers."
   ]
  },
  {
   "cell_type": "markdown",
   "id": "4933a4c5",
   "metadata": {},
   "source": [
    "# Q.4. What will happen if a keyword is used as a variable name?"
   ]
  },
  {
   "cell_type": "markdown",
   "id": "c4303cf4",
   "metadata": {},
   "source": [
    "If we use a keyword as a variable name in Python, you will encounter a syntax error. Keywords are reserved words that have predefined meanings in the language, and they cannot be used as identifiers (such as variable names, function names, etc.). When we try to use a keyword as a variable name, Python's syntax parser will flag it as an error.\n",
    "\n",
    "To avoid this issue, always make sure to use valid variable names that do not coincide with Python keywords. Choose descriptive names that reflect the purpose of the variable and adhere to the naming conventions discussed earlier.\n",
    "\n",
    "For example, consider the following code snippet:"
   ]
  },
  {
   "cell_type": "code",
   "execution_count": 1,
   "id": "5ee2f977",
   "metadata": {},
   "outputs": [
    {
     "ename": "SyntaxError",
     "evalue": "invalid syntax (Temp/ipykernel_21396/1322674849.py, line 1)",
     "output_type": "error",
     "traceback": [
      "\u001b[1;36m  File \u001b[1;32m\"C:\\Users\\SHUBHA~1\\AppData\\Local\\Temp/ipykernel_21396/1322674849.py\"\u001b[1;36m, line \u001b[1;32m1\u001b[0m\n\u001b[1;33m    for = 5\u001b[0m\n\u001b[1;37m        ^\u001b[0m\n\u001b[1;31mSyntaxError\u001b[0m\u001b[1;31m:\u001b[0m invalid syntax\n"
     ]
    }
   ],
   "source": [
    "\n",
    "for = 5\n",
    "print(for)\n",
    "#In this code, for is a keyword used as a variable name, which is not allowed. If you run this code, you will get a syntax error similar to:"
   ]
  },
  {
   "cell_type": "markdown",
   "id": "e113a258",
   "metadata": {},
   "source": [
    "# Q.5. For what purpose def keyword is used?"
   ]
  },
  {
   "cell_type": "markdown",
   "id": "87d1d292",
   "metadata": {},
   "source": [
    "The def keyword in Python is used to define functions. Functions are blocks of organized, reusable code that perform a specific task. They allow you to break down your code into smaller, more manageable pieces and promote code reusability.\n",
    "\n",
    "Functions are a fundamental concept in programming and are crucial for structuring and organizing code. They allow you to encapsulate logic, improve code readability, and make your codebase more modular and maintainabl."
   ]
  },
  {
   "cell_type": "code",
   "execution_count": null,
   "id": "e91f7198",
   "metadata": {},
   "outputs": [],
   "source": [
    "'''\n",
    "Here's the basic syntax for defining a function using the def keyword:\n",
    "def function_name(parameters):\n",
    "    # Function body\n",
    "    # Code to perform the task\n",
    "    return result  # Optional return statement\n",
    "'''"
   ]
  },
  {
   "cell_type": "code",
   "execution_count": null,
   "id": "3e6315f2",
   "metadata": {},
   "outputs": [],
   "source": [
    "#Here's a simple example of a function that adds two numbers and returns the result:\n",
    "\n",
    "def add_numbers(a, b):\n",
    "    result = a + b\n",
    "    return result\n",
    "\n",
    "sum_result = add_numbers(3, 5)\n",
    "print(sum_result)  # Output: 8"
   ]
  },
  {
   "cell_type": "markdown",
   "id": "1e672117",
   "metadata": {},
   "source": [
    "# Q.6. What is the operation of this special character ‘\\’?"
   ]
  },
  {
   "cell_type": "markdown",
   "id": "f7b91a23",
   "metadata": {},
   "source": [
    "The special character '\\', also known as the backslash, serves various purposes in Python programming languages. It is used to escape characters, create special character sequences, and represent non-printable characters. Here are some common uses of the backslash in Python:\n",
    "\n",
    "Escape Sequences: The backslash is often used to create escape sequences that represent special characters. For example:\n",
    "\n",
    "\\n: Represents a newline character.\n",
    "\n",
    "\\t: Represents a tab character.\n",
    "\n",
    "\\': Represents a single quote character.\n",
    "\n",
    "\\\": Represents a double quote character.\n",
    "\n",
    "\\\\: Represents a literal backslash.\n",
    "\n",
    "Unicode Escapes: Backslashes can be used to include Unicode escape sequences to represent characters by their Unicode code points. For example:\n",
    "\n",
    "\\uXXXX: Represents a Unicode character in the Basic Multilingual Plane.\n",
    "\n",
    "\\UXXXXXXXX: Represents a Unicode character using up to 8 hexadecimal digits.\n",
    "\n",
    "Raw Strings: Prefixing a string literal with an r or R makes it a raw string, where backslashes are treated as literal characters rather than escape characters. This is often used for regular expressions and file paths.\n",
    "\n",
    "It means the backslash is a versatile character in Python used for escaping special characters, representing non-printable characters, and handling Unicode characters. It plays a crucial role in working with strings and is an essential tool for formatting and manipulating text within your code."
   ]
  },
  {
   "cell_type": "code",
   "execution_count": 2,
   "id": "b55caeb8",
   "metadata": {},
   "outputs": [
    {
     "name": "stdout",
     "output_type": "stream",
     "text": [
      "Hello\n",
      "World\n",
      "This is a \"quote\".\n",
      "C:\\path\\to\\file.txt\n",
      "This is a \\n raw string.\n"
     ]
    }
   ],
   "source": [
    "print(\"Hello\\nWorld\")  # Output: Hello\n",
    "                       #         World\n",
    "\n",
    "print(\"This is a \\\"quote\\\".\")  # Output: This is a \"quote\".\n",
    "\n",
    "print(\"C:\\\\path\\\\to\\\\file.txt\")  # Output: C:\\path\\to\\file.txt\n",
    "\n",
    "print(r\"This is a \\n raw string.\")  # Output: This is a \\n raw string."
   ]
  },
  {
   "cell_type": "markdown",
   "id": "f8df625d",
   "metadata": {},
   "source": [
    "(i) Homogeneous List:\n",
    "A homogeneous list contains elements of the same data type. In this case, all elements in the list are of the same type. Here's an example:"
   ]
  },
  {
   "cell_type": "markdown",
   "id": "004f9a63",
   "metadata": {},
   "source": [
    "# Q.7. Give an example of the following conditions:\n",
    "# (i) Homogeneous list\n",
    "# (ii) Heterogeneous set\n",
    "# (iii) Homogeneous tuple"
   ]
  },
  {
   "cell_type": "code",
   "execution_count": 4,
   "id": "22a7d7fc",
   "metadata": {},
   "outputs": [],
   "source": [
    "# Homogeneous list of integers\n",
    "int_list = [1, 2, 3, 4, 5]"
   ]
  },
  {
   "cell_type": "markdown",
   "id": "aa427d90",
   "metadata": {},
   "source": [
    "(ii) Heterogeneous Set:\n",
    "A heterogeneous set contains elements of different data types. Unlike lists, sets do not allow duplicate elements. Here's an example:"
   ]
  },
  {
   "cell_type": "code",
   "execution_count": null,
   "id": "d54d976c",
   "metadata": {},
   "outputs": [],
   "source": [
    "# Heterogeneous set with different data types\n",
    "mixed_set = {1, \"hello\", 3.14, True}"
   ]
  },
  {
   "cell_type": "markdown",
   "id": "8d0a020b",
   "metadata": {},
   "source": [
    "(iii) Homogeneous Tuple:\n",
    "A homogeneous tuple contains elements of the same data type. Tuples are similar to lists, but unlike lists, they are immutable, meaning their elements cannot be changed after creation. Here's an example:"
   ]
  },
  {
   "cell_type": "code",
   "execution_count": 5,
   "id": "3d97bd50",
   "metadata": {},
   "outputs": [],
   "source": [
    "# Homogeneous tuple of strings\n",
    "string_tuple = (\"apple\", \"banana\", \"cherry\")"
   ]
  },
  {
   "cell_type": "markdown",
   "id": "8334734f",
   "metadata": {},
   "source": [
    "# Q.8. Explain the mutable and immutable data types with proper explanation & examples."
   ]
  },
  {
   "cell_type": "markdown",
   "id": "3880640f",
   "metadata": {},
   "source": [
    "Mutable and immutable are terms used to describe the behavior of data types in programming languages. They refer to whether the value of a data type can be changed after it's created. Let's break down the concepts with explanations and examples:\n",
    "\n",
    "Immutable Data Types:\n",
    "\n",
    "An immutable data type is one whose value cannot be changed after it's created. This means that if you modify the value of an immutable object, a new object is actually created in memory. Immutable objects are often used for values that are not meant to be changed, such as constants or keys in dictionaries.\n",
    "\n",
    "Common examples of immutable data types in Python include:\n",
    "\n",
    "Integers (int)\n",
    "\n",
    "Floating-point numbers (float)\n",
    "\n",
    "Strings (str)\n",
    "\n",
    "Tuples (tuple)\n",
    "\n",
    "Frozensets (frozenset)"
   ]
  },
  {
   "cell_type": "code",
   "execution_count": null,
   "id": "2a369398",
   "metadata": {},
   "outputs": [],
   "source": [
    "#Here's an example illustrating immutability:\n",
    "x = 5\n",
    "y = x  # y now references the same value as x\n",
    "\n",
    "x = 10  # This creates a new integer object with the value 10\n",
    "\n",
    "print(y)  # Output: 5 (y still references the original value)"
   ]
  },
  {
   "cell_type": "markdown",
   "id": "800e7b8b",
   "metadata": {},
   "source": [
    "Mutable Data Types:\n",
    "\n",
    "A mutable data type is one whose value can be changed after it's created. This means you can modify the content of the object without creating a new object. Mutable objects are often used for data structures that need to be modified frequently.\n",
    "\n",
    "Common examples of mutable data types in Python include:\n",
    "\n",
    "Lists (list)\n",
    "\n",
    "Sets (set)\n",
    "\n",
    "Dictionaries (dict)\n"
   ]
  },
  {
   "cell_type": "code",
   "execution_count": null,
   "id": "3e7b8765",
   "metadata": {},
   "outputs": [],
   "source": [
    "#Here's an example illustrating mutability:\n",
    "list1 = [1, 2, 3]\n",
    "list2 = list1  # list2 references the same list as list1\n",
    "\n",
    "list1.append(4)  # This modifies the existing list by adding an element\n",
    "\n",
    "print(list2)  # Output: [1, 2, 3, 4] (list2 references the same modified list)"
   ]
  },
  {
   "cell_type": "markdown",
   "id": "b0d52a55",
   "metadata": {},
   "source": [
    "It's important to understand the distinction between mutable and immutable data types because it affects how you work with these types in your code. Immutable objects are generally safer to use in scenarios where you don't want unexpected changes to the data, while mutable objects provide more flexibility when you need to modify data structures dynamically."
   ]
  },
  {
   "cell_type": "markdown",
   "id": "deb9521a",
   "metadata": {},
   "source": [
    "# Q.9. Write a code to create the given structure using only for loop."
   ]
  },
  {
   "cell_type": "markdown",
   "id": "edbaca85",
   "metadata": {},
   "source": [
    "             *\n",
    "    \n",
    "            ***\n",
    "        \n",
    "           *****\n",
    "            \n",
    "          *******\n",
    "    \n",
    "         *********"
   ]
  },
  {
   "cell_type": "code",
   "execution_count": 7,
   "id": "20619aa9",
   "metadata": {},
   "outputs": [
    {
     "name": "stdout",
     "output_type": "stream",
     "text": [
      "    *\n",
      "   ***\n",
      "  *****\n",
      " *******\n",
      "*********\n"
     ]
    }
   ],
   "source": [
    "pyramid = 5  # Adjust the height as needed\n",
    "\n",
    "for i in range(pyramid):\n",
    "    spaces = \" \" * (pyramid - i - 1)\n",
    "    stars = \"*\" * (2 * i + 1)\n",
    "    print(spaces + stars)"
   ]
  },
  {
   "cell_type": "markdown",
   "id": "fea7780d",
   "metadata": {},
   "source": [
    "# Q.10. Write a code to create the given structure using while loop"
   ]
  },
  {
   "cell_type": "markdown",
   "id": "8722174e",
   "metadata": {},
   "source": [
    "    |||||||||\n",
    "    \n",
    "     |||||||\n",
    "        \n",
    "      |||||\n",
    "    \n",
    "       |||\n",
    "        \n",
    "        |"
   ]
  },
  {
   "cell_type": "code",
   "execution_count": 8,
   "id": "09bc3a90",
   "metadata": {},
   "outputs": [
    {
     "name": "stdout",
     "output_type": "stream",
     "text": [
      "|||||||||\n",
      " |||||||\n",
      "  |||||\n",
      "   |||\n",
      "    |\n"
     ]
    }
   ],
   "source": [
    "height = 5  # Adjust the height as needed\n",
    "i = 0\n",
    "\n",
    "while i < height:\n",
    "    spaces = \" \" * i\n",
    "    bars = \"|\" * (2 * (height - i) - 1)\n",
    "    print(spaces + bars)\n",
    "    i += 1"
   ]
  }
 ],
 "metadata": {
  "kernelspec": {
   "display_name": "Python 3 (ipykernel)",
   "language": "python",
   "name": "python3"
  },
  "language_info": {
   "codemirror_mode": {
    "name": "ipython",
    "version": 3
   },
   "file_extension": ".py",
   "mimetype": "text/x-python",
   "name": "python",
   "nbconvert_exporter": "python",
   "pygments_lexer": "ipython3",
   "version": "3.9.7"
  }
 },
 "nbformat": 4,
 "nbformat_minor": 5
}
